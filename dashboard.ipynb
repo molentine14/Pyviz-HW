{
 "cells": [
  {
   "cell_type": "markdown",
   "metadata": {},
   "source": [
    "# San Francisco Rental Prices Dashboard\n",
    "\n",
    "In this notebook, you will compile the visualizations from the previous analysis into functions that can be used for a Panel dashboard."
   ]
  },
  {
   "cell_type": "code",
   "execution_count": null,
   "metadata": {},
   "outputs": [],
   "source": [
    "# initial imports\n",
    "import os\n",
    "import pandas as pd\n",
    "import matplotlib.pyplot as plt\n",
    "import hvplot.pandas\n",
    "import panel as pn\n",
    "import plotly.express as px\n",
    "from pathlib import Path\n",
    "from dotenv import load_dotenv\n",
    "\n",
    "# Initialize the Panel Extensions (for Plotly)\n",
    "pn.extension('plotly')"
   ]
  },
  {
   "cell_type": "code",
   "execution_count": null,
   "metadata": {},
   "outputs": [],
   "source": [
    "# Read the Mapbox API key\n",
    "load_dotenv()\n",
    "mapbox_token = os.getenv(\"MAPBOX_KEY\")"
   ]
  },
  {
   "cell_type": "markdown",
   "metadata": {},
   "source": [
    "# Import Data"
   ]
  },
  {
   "cell_type": "code",
   "execution_count": null,
   "metadata": {},
   "outputs": [],
   "source": [
    "# Import the CSVs to Pandas DataFrames\n",
    "file_path = Path(\"Data/sfo_neighborhoods_census_data.csv\")\n",
    "sfo_data = pd.read_csv(file_path, index_col=\"year\")\n",
    "\n",
    "file_path = Path(\"Data/neighborhoods_coordinates.csv\")\n",
    "df_neighborhood_locations = pd.read_csv(file_path)"
   ]
  },
  {
   "cell_type": "markdown",
   "metadata": {},
   "source": [
    "- - -"
   ]
  },
  {
   "cell_type": "markdown",
   "metadata": {},
   "source": [
    "## Panel Visualizations\n",
    "\n",
    "In this section, you will copy the code for each plot type from your analysis notebook and place it into separate functions that Panel can use to create panes for the dashboard. \n",
    "\n",
    "These functions will convert the plot object to a Panel pane.\n",
    "\n",
    "Be sure to include any DataFrame transformation/manipulation code required along with the plotting code.\n",
    "\n",
    "Return a Panel pane object from each function that can be used to build the dashboard.\n",
    "\n",
    "Note: Remove any `.show()` lines from the code. We want to return the plots instead of showing them. The Panel dashboard will then display the plots."
   ]
  },
  {
   "cell_type": "code",
   "execution_count": null,
   "metadata": {},
   "outputs": [],
   "source": [
    "# Define Panel Visualization Functions\n",
    "def housing_units_per_year():\n",
    "    \"\"\"Housing Units Per Year.\"\"\"\n",
    "    housing_units_per_year = sfo_data[\"housing_units\"].groupby(\"year\").mean()\n",
    "    \n",
    "    #Plot Params\n",
    "    x = \"Year\"\n",
    "    y = \"Housing Units Per Year\"\n",
    "    title = \"Housing Units per Year from 2010-2016 \"\n",
    "    #Plot\n",
    "    fig_housing_units = plt.figure()\n",
    "    #Adds\n",
    "    plot_housing_units_per_year = housing_units_per_year.plot.bar()\n",
    "    plot_housing_units_per_year.set_xlabel(x)\n",
    "    plot_housing_units_per_year.set_ylabel(y)\n",
    "    plot_housing_units_per_year.set_title(title)\n",
    "\n",
    "    #plt.show()\n",
    "    plt.close(fig_housing_units)\n",
    "    \n",
    "    #Return it\n",
    "    return fig_housing_units"
   ]
  },
  {
   "cell_type": "code",
   "execution_count": null,
   "metadata": {},
   "outputs": [],
   "source": [
    "def average_gross_rent():\n",
    "    \"\"\"Average Gross Rent in San Francisco Per Year.\"\"\"\n",
    "    avg_price_per_sqrft = sfo_data[[\"sale_price_sqr_foot\",\"gross_rent\"]].groupby('year').mean()\n",
    "    \n",
    "    \n",
    "    x = \"Year\"\n",
    "    y = \"avg sale price\"\n",
    "    title = \"average gross rent in San Francisco \"\n",
    "\n",
    "    fig_housing_units = plt.figure()\n",
    "\n",
    "    avg_gross_rent= avg_price_per_sqrft['gross_rent'].plot.line()\n",
    "    avg_gross_rent.set_xlabel(x)\n",
    "    avg_gross_rent.set_ylabel(y)\n",
    "    avg_gross_rent.set_title(title)\n",
    "\n",
    "    # plt.show()\n",
    "    plt.close(fig_housing_units)\n",
    "    #return our plot\n",
    "    return pn.pane.Matplotlib(fig_housing_units, tight=True)"
   ]
  },
  {
   "cell_type": "code",
   "execution_count": null,
   "metadata": {},
   "outputs": [],
   "source": [
    "def average_sales_price():\n",
    "    \"\"\"Average Sales Price Per Year.\"\"\"\n",
    "    avg_price_per_sqrft = sfo_data[[\"sale_price_sqr_foot\",\"gross_rent\"]].groupby('year').mean()\n",
    "    x = \"Year\"\n",
    "    y = \"avg sale price\"\n",
    "    title = \"average sale price per square foot\"\n",
    "\n",
    "    fig_housing_units = plt.figure()\n",
    "    avg_gross_rent= avg_price_per_sqrft['sale_price_sqr_foot'].plot.line()\n",
    "    avg_gross_rent.set_xlabel(x)\n",
    "    avg_gross_rent.set_ylabel(y)\n",
    "    avg_gross_rent.set_title(title)\n",
    "\n",
    "    #plt.show()\n",
    "    plt.close(fig_housing_units)\n",
    "    \n",
    "    return pn.pane.Matplotlib(fig_housing_units, tight=True)\n",
    "    \n",
    "    # YOUR CODE HERE!"
   ]
  },
  {
   "cell_type": "code",
   "execution_count": null,
   "metadata": {},
   "outputs": [],
   "source": [
    "def average_price_by_neighborhood():\n",
    "    \"\"\"Average Prices by Neighborhood.\"\"\"\n",
    "    average_price_per_neighborhood = sfo_data[['sale_price_sqr_foot','neighborhood']].groupby(['year','neighborhood']).mean()\n",
    "    avg_price_plot = average_price_per_neighborhood.hvplot.line(\n",
    "        x='year',\n",
    "        y='sale_price_sqr_foot',\n",
    "        xlabel='Year',\n",
    "        ylabel= 'avg sales price per square foot',\n",
    "        groupby= 'neighborhood')\n",
    "\n",
    "    return avg_price_plot"
   ]
  },
  {
   "cell_type": "code",
   "execution_count": null,
   "metadata": {},
   "outputs": [],
   "source": [
    "def top_most_expensive_neighborhoods():\n",
    "    \"\"\"Top 10 Most Expensive Neighborhoods.\"\"\"\n",
    "\n",
    "    Average_sales_price_per_neighborhood = sfo_data.groupby('neighborhood').mean()\n",
    "    avg_price_per_neighborhood = Average_sales_price_per_neighborhood.sort_values(by=\"sale_price_sqr_foot\",ascending=False)\n",
    "    Average_sales_price_per_neighborhood = avg_price_per_neighborhood.head(10)\n",
    "    plot = Average_sales_price_per_neighborhood.hvplot.bar(\n",
    "        x='neighborhood',\n",
    "        y='sale_price_sqr_foot',\n",
    "        xlabel='neighborhood',\n",
    "        ylabel= 'top ten most expensive neighborhood', \n",
    "        rot=45,\n",
    "        color=\"sale_price_sqr_foot\",)\n",
    "\n",
    "    return plot    \n",
    "    # YOUR CODE HERE!"
   ]
  },
  {
   "cell_type": "code",
   "execution_count": null,
   "metadata": {},
   "outputs": [],
   "source": [
    "def parallel_categories():\n",
    "    \"\"\"Parallel Categories Plot.\"\"\"\n",
    "    Average_sales_price_per_neighborhood = sfo_data.groupby('neighborhood').mean()\n",
    "    avg_price_per_neighborhood = Average_sales_price_per_neighborhood.sort_values(by=\"sale_price_sqr_foot\",ascending=False)\n",
    "    Average_sales_price_per_neighborhood = avg_price_per_neighborhood.head(10)\n",
    "    \n",
    "    plot = px.parallel_categories(\n",
    "    Average_sales_price_per_neighborhood,\n",
    "    color=\"sale_price_sqr_foot\")\n",
    "    \n",
    "\n",
    "    return plot"
   ]
  },
  {
   "cell_type": "code",
   "execution_count": null,
   "metadata": {},
   "outputs": [],
   "source": [
    "def parallel_coordinates():\n",
    "    \"\"\"Parallel coordinates Plot.\"\"\"\n",
    "    Average_sales_price_per_neighborhood = sfo_data.groupby('neighborhood').mean()\n",
    "    avg_price_per_neighborhood = Average_sales_price_per_neighborhood.sort_values(by=\"sale_price_sqr_foot\",ascending=False)\n",
    "    Average_sales_price_per_neighborhood = avg_price_per_neighborhood.head(10)\n",
    "    \n",
    "    plot = px.parallel_coordinates(\n",
    "    Average_sales_price_per_neighborhood,\n",
    "    color=\"sale_price_sqr_foot\")\n",
    "    return plot"
   ]
  },
  {
   "cell_type": "code",
   "execution_count": null,
   "metadata": {},
   "outputs": [],
   "source": [
    "def neighborhood_map():\n",
    "    \"\"\"Neighborhood Map\"\"\"\n",
    "    Average_sales_price_per_neighborhood = sfo_data.groupby('neighborhood').mean()\n",
    "    avg_price_per_neighborhood = Average_sales_price_per_neighborhood.sort_values(by=\"sale_price_sqr_foot\",ascending=False)\n",
    "    \n",
    "    \n",
    "    avg_price_per_neighborhood.reset_index(inplace = True) #inplace statments can only be called once unless run all cells above\n",
    "    avg_price_per_neighborhood.rename(columns={\"neighborhood\":\"Neighborhood\"}, inplace=True)\n",
    "    mrgd_data_frame = pd.merge(df_neighborhood_locations,avg_price_per_neighborhood, on = \"Neighborhood\")\n",
    "    \n",
    "    px.set_mapbox_access_token(mapbox_token)\n",
    "    \n",
    "    mapbox = px.scatter_mapbox(\n",
    "        mrgd_data_frame,\n",
    "        lat=\"Lat\",\n",
    "        lon=\"Lon\",\n",
    "        size =\"sale_price_sqr_foot\",\n",
    "        color=\"gross_rent\",\n",
    "        hover_name=\"Neighborhood\",\n",
    "        title=\"average price per neighborhood\")\n",
    "    \n",
    "    #mapbox.show()\n",
    "    \n",
    "    return mapbox"
   ]
  },
  {
   "cell_type": "markdown",
   "metadata": {},
   "source": [
    "### Panel Dashboard\n",
    "\n",
    "In this section, you will combine all of the plots into a single dashboard view using Panel. Be creative with your dashboard design!"
   ]
  },
  {
   "cell_type": "code",
   "execution_count": null,
   "metadata": {},
   "outputs": [],
   "source": [
    "#Title of Dash\n",
    "\n",
    "title = pn.pane.Markdown( \"\"\"## Real Estate anaylsis of San Francicso neighborhood from 2010-2016\"\"\",width=800,)"
   ]
  },
  {
   "cell_type": "code",
   "execution_count": null,
   "metadata": {},
   "outputs": [],
   "source": []
  },
  {
   "cell_type": "code",
   "execution_count": null,
   "metadata": {},
   "outputs": [],
   "source": [
    "welcome = pn.pane.Markdown(\n",
    "\"\"\"this dashborad visually presents the sales  price per saquare foot and the gross rent\n",
    "in San Francisco  from 2010 to 2016. For more details move through the tabs\"\"\")"
   ]
  },
  {
   "cell_type": "code",
   "execution_count": null,
   "metadata": {},
   "outputs": [],
   "source": [
    "#Dash Tabs"
   ]
  },
  {
   "cell_type": "code",
   "execution_count": null,
   "metadata": {},
   "outputs": [],
   "source": [
    "tabs = pn.Tabs(\n",
    "    (\"welcome\", pn.Column(welcome, neighborhood_map())\n",
    "    ),\n",
    "               \n",
    "     (\"Yearly market analysis\",\n",
    "      pn.Row(housing_units_per_year(), \n",
    "             average_gross_rent(), \n",
    "             average_sales_price(), \n",
    "             average_gross_rent(),\n",
    "             average_sales_price())\n",
    "     ),\n",
    "    \n",
    "     (\"Neighborhood Analysis\",\n",
    "      pn.Column(average_price_by_neighborhood(),\n",
    "                top_most_expensive_neighborhoods())\n",
    "     ),\n",
    "    \n",
    "     (\"parallel plots analysis\",\n",
    "      pn.Column(parallel_categories(), \n",
    "                parallel_coordinates(),\n",
    "                width=960)\n",
    "     )\n",
    ")\n",
    "    \n",
    "panel = pn.Column(pn.Row(title), tabs, width =900)                        "
   ]
  },
  {
   "cell_type": "markdown",
   "metadata": {},
   "source": [
    "## Serve the Panel Dashboard"
   ]
  },
  {
   "cell_type": "code",
   "execution_count": null,
   "metadata": {},
   "outputs": [],
   "source": [
    "panel.servable() #parallel plots show upin browser, not here."
   ]
  }
 ],
 "metadata": {
  "file_extension": ".py",
  "kernelspec": {
   "display_name": "Python 3",
   "language": "python",
   "name": "python3"
  },
  "language_info": {
   "codemirror_mode": {
    "name": "ipython",
    "version": 3
   },
   "file_extension": ".py",
   "mimetype": "text/x-python",
   "name": "python",
   "nbconvert_exporter": "python",
   "pygments_lexer": "ipython3",
   "version": "3.7.6"
  },
  "mimetype": "text/x-python",
  "name": "python",
  "npconvert_exporter": "python",
  "pygments_lexer": "ipython3",
  "version": 3
 },
 "nbformat": 4,
 "nbformat_minor": 4
}
