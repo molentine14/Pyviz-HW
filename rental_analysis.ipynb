{
 "cells": [
  {
   "cell_type": "markdown",
   "metadata": {},
   "source": [
    "# San Francisco Housing Rental Analysis\n",
    "\n",
    "In this assignment, you will perform basic analysis for the San Francisco Housing Market to allow potential real estate investors to choose rental investment properties. "
   ]
  },
  {
   "cell_type": "code",
   "execution_count": null,
   "metadata": {},
   "outputs": [],
   "source": [
    "# initial imports\n",
    "import os\n",
    "import pandas as pd\n",
    "import matplotlib.pyplot as plt\n",
    "import hvplot.pandas\n",
    "import plotly.express as px\n",
    "from pathlib import Path\n",
    "from dotenv import load_dotenv\n",
    "\n",
    "%matplotlib inline"
   ]
  },
  {
   "cell_type": "code",
   "execution_count": null,
   "metadata": {},
   "outputs": [],
   "source": [
    "# Read the Mapbox API key\n",
    "load_dotenv()\n",
    "mapbox_token = os.getenv(\"MAPBOX_KEY\")"
   ]
  },
  {
   "cell_type": "markdown",
   "metadata": {},
   "source": [
    "## Load Data"
   ]
  },
  {
   "cell_type": "code",
   "execution_count": null,
   "metadata": {},
   "outputs": [],
   "source": [
    "# Read the census data into a Pandas DataFrame\n",
    "file_path = Path(\"Data/sfo_neighborhoods_census_data.csv\")\n",
    "sfo_data = pd.read_csv(file_path, index_col=\"year\")\n",
    "sfo_data"
   ]
  },
  {
   "cell_type": "markdown",
   "metadata": {},
   "source": [
    "- - - "
   ]
  },
  {
   "cell_type": "markdown",
   "metadata": {},
   "source": [
    "## Housing Units Per Year\n",
    "\n",
    "In this section, you will calculate the number of housing units per year and visualize the results as a bar chart using the Pandas plot function. \n",
    "\n",
    "Hint: Use the Pandas groupby function\n",
    "\n",
    "Optional challenge: Use the min, max, and std to scale the y limits of the chart."
   ]
  },
  {
   "cell_type": "code",
   "execution_count": null,
   "metadata": {},
   "outputs": [],
   "source": [
    "# Calculate the mean number of housing units per year (hint: use groupby) we need the housing units per year column, group by year, mean.\n",
    "housing_units_per_year = sfo_data[\"housing_units\"].groupby(\"year\").mean()\n",
    "housing_units_per_year"
   ]
  },
  {
   "cell_type": "code",
   "execution_count": null,
   "metadata": {},
   "outputs": [],
   "source": [
    "# Use the Pandas plot function to plot the average housing units per year.\n",
    "# Note: You will need to manually adjust the y limit of the chart using the min and max values from above.\n",
    "\n",
    "x = \"Year\"\n",
    "y = \"Housing Units Per Year\"\n",
    "title = \"Housing Units per Year from 2010-2016 \"\n",
    "\n",
    "fig_housing_units = plt.figure()\n",
    "\n",
    "plot_housing_units_per_year = housing_units_per_year.plot.bar()\n",
    "plot_housing_units_per_year.set_xlabel(x)\n",
    "plot_housing_units_per_year.set_ylabel(y)\n",
    "plot_housing_units_per_year.set_title(title)\n",
    "\n",
    "plt.show()\n",
    "plt.close(fig_housing_units)\n"
   ]
  },
  {
   "cell_type": "markdown",
   "metadata": {},
   "source": [
    "- - - "
   ]
  },
  {
   "cell_type": "markdown",
   "metadata": {},
   "source": [
    "## Average Prices per Square Foot\n",
    "\n",
    "In this section, you will calculate the average gross rent and average sales price for each year. Plot the results as a line chart."
   ]
  },
  {
   "cell_type": "markdown",
   "metadata": {},
   "source": [
    "### Average Gross Rent in San Francisco Per Year"
   ]
  },
  {
   "cell_type": "code",
   "execution_count": null,
   "metadata": {},
   "outputs": [],
   "source": [
    "avg_price_per_sqrft = sfo_data[[\"sale_price_sqr_foot\",\"gross_rent\"]].groupby('year').mean()\n",
    "avg_price_per_sqrft"
   ]
  },
  {
   "cell_type": "code",
   "execution_count": null,
   "metadata": {},
   "outputs": [],
   "source": [
    "# Calculate the average gross rent and average sale price per square foot\n",
    "# YOUR CODE HERE!"
   ]
  },
  {
   "cell_type": "code",
   "execution_count": null,
   "metadata": {},
   "outputs": [],
   "source": [
    "x = \"Year\"\n",
    "y = \"avg sale price\"\n",
    "title = \"average gross rent in San Francisco \"\n",
    "\n",
    "fig_housing_units = plt.figure()\n",
    "\n",
    "avg_gross_rent= avg_price_per_sqrft['gross_rent'].plot.line()\n",
    "avg_gross_rent.set_xlabel(x)\n",
    "avg_gross_rent.set_ylabel(y)\n",
    "avg_gross_rent.set_title(title)\n",
    "\n",
    "plt.show()\n",
    "plt.close(fig_housing_units)"
   ]
  },
  {
   "cell_type": "code",
   "execution_count": null,
   "metadata": {},
   "outputs": [],
   "source": [
    "### Average Sales Price per Year\n",
    "x = \"Year\"\n",
    "y = \"avg sale price\"\n",
    "title = \"average sale price per square foot\"\n",
    "\n",
    "fig_housing_units = plt.figure()\n",
    "\n",
    "avg_gross_rent= avg_price_per_sqrft['sale_price_sqr_foot'].plot.line()\n",
    "avg_gross_rent.set_xlabel(x)\n",
    "avg_gross_rent.set_ylabel(y)\n",
    "avg_gross_rent.set_title(title)\n",
    "\n",
    "plt.show()\n",
    "plt.close(fig_housing_units)"
   ]
  },
  {
   "cell_type": "code",
   "execution_count": null,
   "metadata": {},
   "outputs": [],
   "source": [
    "# Plot the Average Sales Price per SQF per Year as a line chart\n",
    "# YOUR CODE HERE!"
   ]
  },
  {
   "cell_type": "markdown",
   "metadata": {},
   "source": [
    "- - - "
   ]
  },
  {
   "cell_type": "markdown",
   "metadata": {},
   "source": [
    "## Average Prices by Neighborhood\n",
    "\n",
    "In this section, you will use hvplot to create an interactive visulization of the Average Prices with a dropdown selector for the neighborhood.\n",
    "\n",
    "Hint: It will be easier to create a new DataFrame from grouping the data and calculating the mean prices for each year and neighborhood"
   ]
  },
  {
   "cell_type": "code",
   "execution_count": null,
   "metadata": {},
   "outputs": [],
   "source": [
    "# Group by year and neighborhood and then create a new dataframe of the mean values? of what?...of everything.\n",
    "average_price_per_neighborhood = sfo_data[['sale_price_sqr_foot','neighborhood']].groupby(['year','neighborhood']).mean()\n",
    "average_price_per_neighborhood.head()"
   ]
  },
  {
   "cell_type": "code",
   "execution_count": null,
   "metadata": {},
   "outputs": [],
   "source": [
    "# Use hvplot to create an interactive line chart of the average price per sq ft.\n",
    "# The plot should have a dropdown selector for the neighborhood\n",
    "average_price_per_neighborhood.hvplot.line(\n",
    "    x='year',\n",
    "    y='sale_price_sqr_foot',\n",
    "    xlabel='Year',\n",
    "    ylabel= 'avg sales price per square foot',\n",
    "    groupby= 'neighborhood',\n",
    ")\n"
   ]
  },
  {
   "cell_type": "markdown",
   "metadata": {},
   "source": [
    "- - - "
   ]
  },
  {
   "cell_type": "markdown",
   "metadata": {},
   "source": [
    "## The Top 10 Most Expensive Neighborhoods\n",
    "\n",
    "In this section, you will need to calculate the mean sale price for each neighborhood and then sort the values to obtain the top 10 most expensive neighborhoods on average. Plot the results as a bar chart."
   ]
  },
  {
   "cell_type": "code",
   "execution_count": null,
   "metadata": {},
   "outputs": [],
   "source": [
    "# # Getting the data from the top 10 expensive neighborhoods\n",
    "# neighborhood = sfo_data[['neighborhood','sale_price_sqr_foot']]\n",
    "# neighborhood_grouped = neighborhood.groupby('neighborhood')\n",
    "# avg_sales_price_per_neighborhood = neighborhood_grouped.mean()\n",
    "# avg_sales_price_per_neighborhood_sorted = avg_sales_price_per_neighborhood.sort_values(by=\"sale_price_sqr_foot\", ascending=False)\n",
    "# avg_sales_price_per_neighborhood_sorted_top10 = avg_sales_price_per_neighborhood_sorted.head(10)\n",
    "# avg_sales_price_per_neighborhood_sorted_top10\n",
    "\n",
    "#the shother less pythonic way\n",
    "Average_sales_price_per_neighborhood = sfo_data.groupby('neighborhood').mean()\n",
    "avg_price_per_neighborhood = Average_sales_price_per_neighborhood.sort_values(by=\"sale_price_sqr_foot\",ascending=False)\n",
    "Average_sales_price_per_neighborhood = avg_price_per_neighborhood.head(10)\n",
    "Average_sales_price_per_neighborhood"
   ]
  },
  {
   "cell_type": "code",
   "execution_count": null,
   "metadata": {},
   "outputs": [],
   "source": [
    "# Plotting the data from the top 10 expensive neighborhoods\n",
    "Average_sales_price_per_neighborhood.hvplot.bar(\n",
    "    x='neighborhood',\n",
    "    y='sale_price_sqr_foot',\n",
    "    xlabel='neighborhood',\n",
    "    ylabel= 'top ten most expensive neighborhood', rot=45\n",
    "   )"
   ]
  },
  {
   "cell_type": "markdown",
   "metadata": {},
   "source": [
    "- - - "
   ]
  },
  {
   "cell_type": "markdown",
   "metadata": {},
   "source": [
    "## Parallel Coordinates and Parallel Categories Analysis\n",
    "\n",
    "In this section, you will use plotly express to create parallel coordinates and parallel categories visualizations so that investors can interactively filter and explore various factors related to the sales price of the neighborhoods. \n",
    "\n",
    "Using the DataFrame of Average values per neighborhood (calculated above), create the following visualizations:\n",
    "1. Create a Parallel Coordinates Plot\n",
    "2. Create a Parallel Categories Plot"
   ]
  },
  {
   "cell_type": "code",
   "execution_count": null,
   "metadata": {},
   "outputs": [],
   "source": [
    "# Parallel Coordinates Plot\n",
    "px.parallel_coordinates(\n",
    "    Average_sales_price_per_neighborhood,\n",
    "    color=\"sale_price_sqr_foot\"\n",
    ")"
   ]
  },
  {
   "cell_type": "code",
   "execution_count": null,
   "metadata": {},
   "outputs": [],
   "source": [
    "# Parallel Categories Plot\n",
    "px.parallel_categories(\n",
    "    Average_sales_price_per_neighborhood,\n",
    "    color=\"sale_price_sqr_foot\"\n",
    ")"
   ]
  },
  {
   "cell_type": "markdown",
   "metadata": {},
   "source": [
    "- - - "
   ]
  },
  {
   "cell_type": "markdown",
   "metadata": {},
   "source": [
    "## Neighborhood Map\n",
    "\n",
    "In this section, you will read in neighboor location data and build an interactive map with the average prices per neighborhood. Use a scatter_mapbox from plotly express to create the visualization. Remember, you will need your mapbox api key for this."
   ]
  },
  {
   "cell_type": "markdown",
   "metadata": {},
   "source": [
    "### Load Location Data"
   ]
  },
  {
   "cell_type": "code",
   "execution_count": null,
   "metadata": {},
   "outputs": [],
   "source": [
    "# Load neighborhoods coordinates data\n",
    "file_path = Path(\"Data/neighborhoods_coordinates.csv\")\n",
    "df_neighborhood_locations = pd.read_csv(file_path)\n",
    "df_neighborhood_locations.head()"
   ]
  },
  {
   "cell_type": "markdown",
   "metadata": {},
   "source": [
    "### Data Preparation\n",
    "\n",
    "You will need to join the location data with the mean prices per neighborhood\n",
    "\n",
    "1. Calculate the mean values for each neighborhood\n",
    "2. Join the average values with the neighborhood locations"
   ]
  },
  {
   "cell_type": "code",
   "execution_count": null,
   "metadata": {},
   "outputs": [],
   "source": [
    "# Calculate the mean values for each neighborhood\n",
    "avg_price_per_neighborhood.reset_index(inplace = True) #inplace statments can only be called once unless run all cells above\n",
    "avg_price_per_neighborhood.rename(columns={\"neighborhood\":\"Neighborhood\"}, inplace=True)"
   ]
  },
  {
   "cell_type": "code",
   "execution_count": null,
   "metadata": {},
   "outputs": [],
   "source": [
    "avg_price_per_neighborhood"
   ]
  },
  {
   "cell_type": "code",
   "execution_count": null,
   "metadata": {},
   "outputs": [],
   "source": [
    "# Join the average values with the neighborhood locations\n",
    "mrgd_data_frame = pd.merge(df_neighborhood_locations,avg_price_per_neighborhood, on = \"Neighborhood\")\n",
    "mrgd_data_frame"
   ]
  },
  {
   "cell_type": "markdown",
   "metadata": {},
   "source": [
    "### Mapbox Visualization\n",
    "\n",
    "Plot the aveage values per neighborhood with a plotly express scatter_mapbox visualization."
   ]
  },
  {
   "cell_type": "code",
   "execution_count": null,
   "metadata": {},
   "outputs": [],
   "source": [
    "# Create a scatter mapbox to analyze neighborhood info\n",
    "px.set_mapbox_access_token(mapbox_token)\n",
    "map = px.scatter_mapbox(\n",
    "    mrgd_data_frame,\n",
    "    lat=\"Lat\",\n",
    "    lon=\"Lon\",\n",
    "    size=\"sale_price_sqr_foot\",\n",
    "    color=\"gross_rent\",\n",
    "    hover_name=\"Neighborhood\",\n",
    "    title=\"average price per neighborhood\"\n",
    ")\n",
    "map.show()"
   ]
  }
 ],
 "metadata": {
  "file_extension": ".py",
  "kernelspec": {
   "display_name": "Python 3",
   "language": "python",
   "name": "python3"
  },
  "language_info": {
   "codemirror_mode": {
    "name": "ipython",
    "version": 3
   },
   "file_extension": ".py",
   "mimetype": "text/x-python",
   "name": "python",
   "nbconvert_exporter": "python",
   "pygments_lexer": "ipython3",
   "version": "3.7.6"
  },
  "mimetype": "text/x-python",
  "name": "python",
  "npconvert_exporter": "python",
  "pygments_lexer": "ipython3",
  "version": 3
 },
 "nbformat": 4,
 "nbformat_minor": 4
}
